{
  "cells": [
    {
      "cell_type": "code",
      "execution_count": null,
      "metadata": {
        "id": "Jgr-Oo8i4lOX"
      },
      "outputs": [],
      "source": [
        "import numpy as np\n",
        "import itertools"
      ]
    },
    {
      "cell_type": "code",
      "execution_count": null,
      "metadata": {
        "id": "XSk995OI4gxh"
      },
      "outputs": [],
      "source": [
        "pokemon_types = [\"Normal\", \"Fire\", \"Water\", \"Electric\", \"Grass\", \"Ice\",\n",
        "                 \"Fighting\", \"Poison\", \"Ground\", \"Flying\", \"Psychic\",\n",
        "                 \"Bug\", \"Rock\", \"Ghost\", \"Dragon\", \"Dark\", \"Steel\", \"Fairy\"]\n",
        "\n",
        "\n",
        "damage_array = np.array([[1, 1, 1, 1, 1, 1, 1, 1, 1, 1, 1, 1, 1/2, 0, 1, 1, 1/2, 1],\n",
        "                    [1, 1/2, 1/2, 1, 2, 2, 1, 1, 1, 1, 1, 2, 1/2, 1, 1/2, 1, 2, 1],\n",
        "                    [1, 2, 1/2, 1, 1/2, 1, 1, 1, 2, 1, 1, 1, 2, 1, 1/2, 1, 1, 1],\n",
        "                    [1, 1, 2, 1/2, 1/2, 1, 1, 1, 0, 2, 1, 1, 1, 1, 1/2, 1, 1, 1],\n",
        "                    [1, 1/2, 2, 1, 1/2, 1, 1, 1/2, 2, 1/2, 1, 1/2, 2, 1, 1/2, 1, 1/2, 1],\n",
        "                    [1, 1/2, 1/2, 1, 2, 1/2, 1, 1, 2, 2, 1, 1, 1, 1, 2, 1, 1/2, 1],\n",
        "                    [2, 1, 1, 1, 1, 2, 1, 1/2, 1, 1/2, 1/2, 1/2, 2, 0, 1, 2, 2, 1/2],\n",
        "                    [1, 1, 1, 1, 2, 1, 1, 1/2, 1/2, 1, 1, 1, 1/2, 1/2, 1, 1, 0, 2],\n",
        "                    [1, 2, 1, 2, 1/2, 1, 1, 2, 1, 0, 1, 1/2, 2, 1, 1, 1, 2, 1],\n",
        "                    [1, 1, 1, 1/2, 2, 1, 2, 1, 1, 1, 1, 2, 1/2, 1, 1, 1, 1/2, 1],\n",
        "                    [1, 1, 1, 1, 1, 1, 2, 2, 1, 1, 1/2, 1, 1, 1, 1, 0, 1/2, 1],\n",
        "                    [1, 1/2, 1, 1, 2, 1, 1/2, 1/2, 1, 1/2, 2, 1, 1, 1/2, 1, 2, 1/2, 1/2],\n",
        "                    [1, 2, 1, 1, 1, 2, 1/2, 1, 1/2, 2, 1, 2, 1, 1, 1, 1, 1/2, 1],\n",
        "                    [0, 1, 1, 1, 1, 1, 1, 1, 1, 1, 2, 1, 1, 2, 1, 1/2, 1, 1],\n",
        "                    [1, 1, 1, 1, 1, 1, 1, 1, 1, 1, 1, 1, 1, 1, 2, 1, 1/2, 0],\n",
        "                    [1, 1, 1, 1, 1, 1, 1/2, 1, 1, 1, 2, 1, 1, 2, 1, 1/2, 1, 1/2],\n",
        "                    [1, 1/2, 1/2, 1/2, 1, 2, 1, 1, 1, 1, 1, 1, 2, 1, 1, 1, 1/2, 2],\n",
        "                    [1, 1/2, 1, 1, 1, 1, 2, 1/2, 1, 1, 1, 1, 1, 1, 2, 2, 1/2, 1]])"
      ]
    },
    {
      "cell_type": "code",
      "execution_count": null,
      "metadata": {
        "id": "Rr_TqRHt4i3y"
      },
      "outputs": [],
      "source": [
        "num_types = 7\n",
        "type_to_index = {pokemon_types[i] : i for i in range(len(pokemon_types))}\n",
        "type_to_index\n",
        "poss = list(itertools.combinations(pokemon_types, num_types))"
      ]
    },
    {
      "cell_type": "code",
      "execution_count": null,
      "metadata": {
        "id": "srmG5CLq609u"
      },
      "outputs": [],
      "source": [
        "def count_attacks(types):\n",
        "    dic = {}\n",
        "    count = 0\n",
        "    for ty in types:\n",
        "        stats = damage_array[type_to_index[ty]]\n",
        "        for i in range(len(stats)):\n",
        "            if stats[i] == 2 and i not in dic:\n",
        "                dic[i] = 1\n",
        "                count += 1\n",
        "    return count\n",
        "\n",
        "good = []\n",
        "for pos in poss:\n",
        "    count = count_attacks(pos)\n",
        "    if count >= 18:\n",
        "        good.append(pos)\n",
        "\n",
        "\n"
      ]
    },
    {
      "cell_type": "code",
      "execution_count": null,
      "metadata": {
        "colab": {
          "base_uri": "https://localhost:8080/"
        },
        "id": "AoFMHVCk8IBw",
        "outputId": "33dc6554-3bf8-47b1-81ef-59b35bb587ff"
      },
      "outputs": [
        {
          "name": "stdout",
          "output_type": "stream",
          "text": [
            "10\n",
            "31824\n"
          ]
        }
      ],
      "source": [
        "print(len(good))\n",
        "print(len(poss))"
      ]
    },
    {
      "cell_type": "code",
      "execution_count": null,
      "metadata": {
        "colab": {
          "base_uri": "https://localhost:8080/"
        },
        "id": "TAUCs7z886Xb",
        "outputId": "418da9b4-f4d1-4718-bc22-87edce07725c"
      },
      "outputs": [
        {
          "name": "stdout",
          "output_type": "stream",
          "text": [
            "('Electric', 'Ice', 'Fighting', 'Poison', 'Ground', 'Flying', 'Ghost')\n",
            "('Electric', 'Ice', 'Fighting', 'Poison', 'Ground', 'Flying', 'Dark')\n",
            "('Electric', 'Ice', 'Fighting', 'Ground', 'Flying', 'Ghost', 'Steel')\n",
            "('Electric', 'Ice', 'Fighting', 'Ground', 'Flying', 'Dark', 'Steel')\n",
            "('Grass', 'Ice', 'Fighting', 'Poison', 'Ground', 'Flying', 'Ghost')\n",
            "('Grass', 'Ice', 'Fighting', 'Poison', 'Ground', 'Flying', 'Dark')\n",
            "('Grass', 'Ice', 'Fighting', 'Ground', 'Flying', 'Ghost', 'Steel')\n",
            "('Grass', 'Ice', 'Fighting', 'Ground', 'Flying', 'Dark', 'Steel')\n",
            "('Grass', 'Fighting', 'Poison', 'Ground', 'Rock', 'Ghost', 'Fairy')\n",
            "('Grass', 'Fighting', 'Poison', 'Ground', 'Rock', 'Dark', 'Fairy')\n"
          ]
        }
      ],
      "source": [
        "for i in good:\n",
        "    print(i)"
      ]
    },
    {
      "cell_type": "code",
      "execution_count": null,
      "metadata": {
        "id": "8wVs49xQ-fBg"
      },
      "outputs": [],
      "source": [
        "def show_beats(types):\n",
        "    beat = [\"unbeaten\" for ty in pokemon_types]\n",
        "    for ty in types:\n",
        "        stats = damage_array[type_to_index[ty]]\n",
        "        for i in range(len(stats)):\n",
        "            if stats[i] == 2:\n",
        "                beat[i] = ty\n",
        "    st = [f\"{beat[i]} beats {pokemon_types[i]}\" for i in range(len(pokemon_types))]\n",
        "    print(\"\\n\".join(st))\n",
        "\n"
      ]
    },
    {
      "cell_type": "code",
      "execution_count": null,
      "metadata": {
        "colab": {
          "base_uri": "https://localhost:8080/"
        },
        "id": "oDLGdieVACWu",
        "outputId": "3fca741a-cbe6-422b-94ea-2224f80792fc"
      },
      "outputs": [
        {
          "name": "stdout",
          "output_type": "stream",
          "text": [
            "('Electric', 'Ice', 'Fighting', 'Poison', 'Ground', 'Flying', 'Ghost')\n",
            "Fighting beats Normal\n",
            "Ground beats Fire\n",
            "Electric beats Water\n",
            "Ground beats Electric\n",
            "Flying beats Grass\n",
            "Fighting beats Ice\n",
            "Flying beats Fighting\n",
            "Ground beats Poison\n",
            "Ice beats Ground\n",
            "Ice beats Flying\n",
            "Ghost beats Psychic\n",
            "Flying beats Bug\n",
            "Ground beats Rock\n",
            "Ghost beats Ghost\n",
            "Ice beats Dragon\n",
            "Fighting beats Dark\n",
            "Ground beats Steel\n",
            "Poison beats Fairy\n"
          ]
        }
      ],
      "source": [
        "print(good[0])\n",
        "show_beats(good[0])\n"
      ]
    }
  ],
  "metadata": {
    "colab": {
      "provenance": []
    },
    "kernelspec": {
      "display_name": "Python 3.7.3 64-bit",
      "language": "python",
      "name": "python3"
    },
    "language_info": {
      "name": "python",
      "version": "3.7.3"
    },
    "vscode": {
      "interpreter": {
        "hash": "31f2aee4e71d21fbe5cf8b01ff0e069b9275f58929596ceb00d14d90e3e16cd6"
      }
    }
  },
  "nbformat": 4,
  "nbformat_minor": 0
}
